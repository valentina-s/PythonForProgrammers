{
 "cells": [
  {
   "cell_type": "markdown",
   "metadata": {},
   "source": [
    "# Python for Programmers"
   ]
  },
  {
   "cell_type": "markdown",
   "metadata": {},
   "source": [
    "This is a crash course on Python for  people who have already some experience with programming (usually scripting languages such as MATLAB or R)."
   ]
  },
  {
   "cell_type": "markdown",
   "metadata": {},
   "source": [
    "---\n",
    "### Lesson Objectives:\n",
    "\n",
    "* learn basic syntax (functions, loops)\n",
    "\n",
    "* learn about Python's basic data structures and the differences between them\n",
    "    - lists, strings, disctionaries, tuples\n",
    "\n",
    "* learn how to munipulate data with numpy arrays\n",
    "\n",
    "* learn how to create a simple Class and instantiate objects from it\n",
    "\n",
    "* learn how to make simple plots\n"
   ]
  },
  {
   "cell_type": "markdown",
   "metadata": {},
   "source": [
    "\n",
    "\n",
    "\n"
   ]
  },
  {
   "cell_type": "markdown",
   "metadata": {},
   "source": []
  },
  {
   "cell_type": "markdown",
   "metadata": {
    "collapsed": true
   },
   "source": [
    "---\n",
    "### Python's Types\n",
    "![](pydatatypes.jpg)\n",
    "Image from http://vinodsrivastava.com/Learning-Hub/\n",
    "\n"
   ]
  },
  {
   "cell_type": "markdown",
   "metadata": {},
   "source": [
    "* Python's libraries provide additional data structures\n",
    "* We can create our own data types\n",
    "* We can create our own objects"
   ]
  },
  {
   "cell_type": "markdown",
   "metadata": {},
   "source": [
    "We will learn about all this data types through processing some brain image datasets."
   ]
  },
  {
   "cell_type": "markdown",
   "metadata": {},
   "source": [
    "---\n",
    "### Manipulating Numerical Data"
   ]
  },
  {
   "cell_type": "markdown",
   "metadata": {},
   "source": [
    "We will work with a cross-sectional MRI dataset which was obtained from [here](http://www.oasis-brains.org/). Download the data from https://github.com/valentina-s/PythonForProgrammers/blob/master/data.zip. It is best to have a folder called `notebooks/` and `data/` in your lesson working directory."
   ]
  },
  {
   "cell_type": "markdown",
   "metadata": {},
   "source": [
    "We will use a Jupyter Notebook in this lesson. Jupyter Notebooks are great to get started, share results with collaborators, teach....\n",
    "\n",
    "Other development environments: [Spyder](https://pythonhosted.org/spyder/), [PyCharm](https://www.jetbrains.com/pycharm/), [Atom](https://atom.io/) ..."
   ]
  },
  {
   "cell_type": "markdown",
   "metadata": {},
   "source": [
    "To get started navigate to the `notebooks` directory in the terminal and type `jupyter notebook`."
   ]
  },
  {
   "cell_type": "markdown",
   "metadata": {},
   "source": [
    "Python's Libraries"
   ]
  },
  {
   "cell_type": "markdown",
   "metadata": {},
   "source": [
    "![](PythonStack.png)\n",
    "https://neurohackweek.github.io/introduction-to-nhw/#50"
   ]
  },
  {
   "cell_type": "markdown",
   "metadata": {
    "collapsed": true
   },
   "source": []
  },
  {
   "cell_type": "markdown",
   "metadata": {
    "collapsed": true
   },
   "source": [
    "The scientific library [SciPy](https://scipy.org/scipylib/) contains a submodule [`ndimage`](http://docs.scipy.org/doc/scipy/reference/ndimage.html) which we will use to read the image files."
   ]
  },
  {
   "cell_type": "code",
   "execution_count": 110,
   "metadata": {
    "collapsed": false
   },
   "outputs": [],
   "source": [
    "# importing submodule ndimage from library scipy\n",
    "from scipy import ndimage"
   ]
  },
  {
   "cell_type": "code",
   "execution_count": 111,
   "metadata": {
    "collapsed": true
   },
   "outputs": [],
   "source": [
    "# reading an image file\n",
    "image = ndimage.imread('../data/OAS1_0001_MR1_mpr_n4_anon_111_t88_masked_gfc_fseg_tra_90.gif')"
   ]
  },
  {
   "cell_type": "code",
   "execution_count": 112,
   "metadata": {
    "collapsed": false
   },
   "outputs": [
    {
     "data": {
      "text/plain": [
       "array([[0, 0, 0, ..., 0, 0, 0],\n",
       "       [0, 0, 0, ..., 0, 0, 0],\n",
       "       [0, 0, 0, ..., 0, 0, 0],\n",
       "       ..., \n",
       "       [0, 0, 0, ..., 0, 0, 0],\n",
       "       [0, 0, 0, ..., 0, 0, 0],\n",
       "       [0, 0, 0, ..., 0, 0, 0]], dtype=uint8)"
      ]
     },
     "execution_count": 112,
     "metadata": {},
     "output_type": "execute_result"
    }
   ],
   "source": [
    "image "
   ]
  },
  {
   "cell_type": "code",
   "execution_count": 113,
   "metadata": {
    "collapsed": false
   },
   "outputs": [
    {
     "data": {
      "text/plain": [
       "(208, 176)"
      ]
     },
     "execution_count": 113,
     "metadata": {},
     "output_type": "execute_result"
    }
   ],
   "source": [
    "# the dimensions of the 2D array (rows,columns)\n",
    "image.shape"
   ]
  },
  {
   "cell_type": "code",
   "execution_count": 114,
   "metadata": {
    "collapsed": false
   },
   "outputs": [
    {
     "data": {
      "text/plain": [
       "numpy.ndarray"
      ]
     },
     "execution_count": 114,
     "metadata": {},
     "output_type": "execute_result"
    }
   ],
   "source": [
    "type(image)"
   ]
  },
  {
   "cell_type": "markdown",
   "metadata": {},
   "source": [
    "The core numerical library is called [NumPy](http://www.numpy.org/). We will load it with a nickname `np` for short."
   ]
  },
  {
   "cell_type": "code",
   "execution_count": 115,
   "metadata": {
    "collapsed": true
   },
   "outputs": [],
   "source": [
    "import numpy as np"
   ]
  },
  {
   "cell_type": "markdown",
   "metadata": {},
   "source": [
    "Let's calculate some summary statistics:"
   ]
  },
  {
   "cell_type": "code",
   "execution_count": 116,
   "metadata": {
    "collapsed": false
   },
   "outputs": [
    {
     "data": {
      "text/plain": [
       "191"
      ]
     },
     "execution_count": 116,
     "metadata": {},
     "output_type": "execute_result"
    }
   ],
   "source": [
    "np.max(image)"
   ]
  },
  {
   "cell_type": "code",
   "execution_count": null,
   "metadata": {
    "collapsed": false
   },
   "outputs": [],
   "source": []
  },
  {
   "cell_type": "code",
   "execution_count": 117,
   "metadata": {
    "collapsed": false
   },
   "outputs": [
    {
     "data": {
      "text/plain": [
       "191"
      ]
     },
     "execution_count": 117,
     "metadata": {},
     "output_type": "execute_result"
    }
   ],
   "source": [
    "image.max()"
   ]
  },
  {
   "cell_type": "code",
   "execution_count": 118,
   "metadata": {
    "collapsed": false
   },
   "outputs": [
    {
     "data": {
      "text/plain": [
       "0"
      ]
     },
     "execution_count": 118,
     "metadata": {},
     "output_type": "execute_result"
    }
   ],
   "source": [
    "image.min()"
   ]
  },
  {
   "cell_type": "code",
   "execution_count": 119,
   "metadata": {
    "collapsed": false
   },
   "outputs": [
    {
     "data": {
      "text/plain": [
       "63.9491368006993"
      ]
     },
     "execution_count": 119,
     "metadata": {},
     "output_type": "execute_result"
    }
   ],
   "source": [
    "image.mean()"
   ]
  },
  {
   "cell_type": "code",
   "execution_count": 120,
   "metadata": {
    "collapsed": false
   },
   "outputs": [
    {
     "data": {
      "text/plain": [
       "73.51293371228904"
      ]
     },
     "execution_count": 120,
     "metadata": {},
     "output_type": "execute_result"
    }
   ],
   "source": [
    "image.std()"
   ]
  },
  {
   "cell_type": "markdown",
   "metadata": {},
   "source": [
    "The core plotting library in Python is [`matplotlib`](http://matplotlib.org/)."
   ]
  },
  {
   "cell_type": "code",
   "execution_count": 121,
   "metadata": {
    "collapsed": true
   },
   "outputs": [],
   "source": [
    "import matplotlib.pyplot as plt\n",
    "# telling the notebook to keep the plots inline (instead of opening in a new window)\n",
    "% matplotlib inline "
   ]
  },
  {
   "cell_type": "code",
   "execution_count": 122,
   "metadata": {
    "collapsed": false
   },
   "outputs": [
    {
     "data": {
      "text/plain": [
       "<matplotlib.image.AxesImage at 0x7faf096d4d30>"
      ]
     },
     "execution_count": 122,
     "metadata": {},
     "output_type": "execute_result"
    },
    {
     "data": {
      "image/png": "[encoded data removed]",
      "text/plain": [
       "<matplotlib.figure.Figure at 0x7faf09644dd8>"
      ]
     },
     "metadata": {},
     "output_type": "display_data"
    }
   ],
   "source": [
    "# displaying a two dimensional image\n",
    "plt.imshow(image,cmap = 'gray')"
   ]
  },
  {
   "cell_type": "code",
   "execution_count": null,
   "metadata": {
    "collapsed": false
   },
   "outputs": [],
   "source": []
  },
  {
   "cell_type": "code",
   "execution_count": 123,
   "metadata": {
    "collapsed": false
   },
   "outputs": [
    {
     "data": {
      "text/plain": [
       "0"
      ]
     },
     "execution_count": 123,
     "metadata": {},
     "output_type": "execute_result"
    }
   ],
   "source": [
    "# Accessing indivual elements\n",
    "image[0,0]"
   ]
  },
  {
   "cell_type": "code",
   "execution_count": 124,
   "metadata": {
    "collapsed": false
   },
   "outputs": [
    {
     "data": {
      "text/plain": [
       "numpy.uint8"
      ]
     },
     "execution_count": 124,
     "metadata": {},
     "output_type": "execute_result"
    }
   ],
   "source": [
    "# checking the type of the array's entries\n",
    "type(image[100,100])"
   ]
  },
  {
   "cell_type": "markdown",
   "metadata": {},
   "source": [
    "In Python indeces start from zero!"
   ]
  },
  {
   "cell_type": "code",
   "execution_count": 125,
   "metadata": {
    "collapsed": false
   },
   "outputs": [
    {
     "data": {
      "text/plain": [
       "array([[0, 0, 0, 0, 0],\n",
       "       [0, 0, 0, 0, 0],\n",
       "       [0, 0, 0, 0, 0],\n",
       "       [0, 0, 0, 0, 0],\n",
       "       [0, 0, 0, 0, 0]], dtype=uint8)"
      ]
     },
     "execution_count": 125,
     "metadata": {},
     "output_type": "execute_result"
    }
   ],
   "source": [
    "# extracting a part from the array\n",
    "image[0:5,0:5]"
   ]
  },
  {
   "cell_type": "markdown",
   "metadata": {},
   "source": [
    "In Python the last index of a range is not read: i.e. here we read indeces `0,...,4`."
   ]
  },
  {
   "cell_type": "code",
   "execution_count": 126,
   "metadata": {
    "collapsed": true
   },
   "outputs": [],
   "source": [
    "# let's extract half of this image\n",
    "leftHemisphere = image[0:208,0:88]"
   ]
  },
  {
   "cell_type": "code",
   "execution_count": 127,
   "metadata": {
    "collapsed": false
   },
   "outputs": [
    {
     "data": {
      "text/plain": [
       "<matplotlib.image.AxesImage at 0x7faf095fd400>"
      ]
     },
     "execution_count": 127,
     "metadata": {},
     "output_type": "execute_result"
    },
    {
     "data": {
      "image/png": "[encoded data removed]",
      "text/plain": [
       "<matplotlib.figure.Figure at 0x7faf09650f98>"
      ]
     },
     "metadata": {},
     "output_type": "display_data"
    }
   ],
   "source": [
    "plt.imshow(leftHemisphere, cmap = 'gray')"
   ]
  },
  {
   "cell_type": "code",
   "execution_count": 128,
   "metadata": {
    "collapsed": false
   },
   "outputs": [
    {
     "data": {
      "text/plain": [
       "(208, 88)"
      ]
     },
     "execution_count": 128,
     "metadata": {},
     "output_type": "execute_result"
    }
   ],
   "source": [
    "leftHemisphere.shape"
   ]
  },
  {
   "cell_type": "markdown",
   "metadata": {},
   "source": [
    "In Python you can drop the first or the last index:"
   ]
  },
  {
   "cell_type": "code",
   "execution_count": 129,
   "metadata": {
    "collapsed": false
   },
   "outputs": [],
   "source": [
    "leftHemisphere = image[:208,:88]"
   ]
  },
  {
   "cell_type": "code",
   "execution_count": 130,
   "metadata": {
    "collapsed": true
   },
   "outputs": [],
   "source": [
    "leftHemisphere = image[:,:88]"
   ]
  },
  {
   "cell_type": "markdown",
   "metadata": {},
   "source": [
    "We can also skip indeces:"
   ]
  },
  {
   "cell_type": "code",
   "execution_count": 131,
   "metadata": {
    "collapsed": true
   },
   "outputs": [],
   "source": [
    "#every other element:\n",
    "small_image = image[0:208:2,0:176:2]"
   ]
  },
  {
   "cell_type": "code",
   "execution_count": 132,
   "metadata": {
    "collapsed": false
   },
   "outputs": [
    {
     "data": {
      "text/plain": [
       "(104, 88)"
      ]
     },
     "execution_count": 132,
     "metadata": {},
     "output_type": "execute_result"
    }
   ],
   "source": [
    "small_image.shape"
   ]
  },
  {
   "cell_type": "code",
   "execution_count": 133,
   "metadata": {
    "collapsed": false
   },
   "outputs": [
    {
     "data": {
      "text/plain": [
       "<matplotlib.image.AxesImage at 0x7faf09564278>"
      ]
     },
     "execution_count": 133,
     "metadata": {},
     "output_type": "execute_result"
    },
    {
     "data": {
      "image/png": "[encoded data removed]",
      "text/plain": [
       "<matplotlib.figure.Figure at 0x7faf09609ac8>"
      ]
     },
     "metadata": {},
     "output_type": "display_data"
    }
   ],
   "source": [
    "plt.imshow(small_image, cmap = 'gray')"
   ]
  },
  {
   "cell_type": "code",
   "execution_count": 134,
   "metadata": {
    "collapsed": true
   },
   "outputs": [],
   "source": [
    "# shortcut\n",
    "small_image = image[::2,::2]"
   ]
  },
  {
   "cell_type": "code",
   "execution_count": 135,
   "metadata": {
    "collapsed": false
   },
   "outputs": [
    {
     "data": {
      "text/plain": [
       "<matplotlib.image.AxesImage at 0x7faf095499b0>"
      ]
     },
     "execution_count": 135,
     "metadata": {},
     "output_type": "execute_result"
    },
    {
     "data": {
      "image/png": "[encoded data removed]",
      "text/plain": [
       "<matplotlib.figure.Figure at 0x7faf09588f60>"
      ]
     },
     "metadata": {},
     "output_type": "display_data"
    }
   ],
   "source": [
    "plt.imshow(small_image,cmap = 'gray')"
   ]
  },
  {
   "cell_type": "code",
   "execution_count": 136,
   "metadata": {
    "collapsed": false
   },
   "outputs": [
    {
     "data": {
      "text/plain": [
       "<matplotlib.image.AxesImage at 0x7faf094b1e48>"
      ]
     },
     "execution_count": 136,
     "metadata": {},
     "output_type": "execute_result"
    },
    {
     "data": {
      "image/png": "[encoded data removed]",
      "text/plain": [
       "<matplotlib.figure.Figure at 0x7faf094eb7f0>"
      ]
     },
     "metadata": {},
     "output_type": "display_data"
    }
   ],
   "source": [
    "# we can transpose rows with columns\n",
    "plt.imshow(small_image.T,cmap = 'gray')"
   ]
  },
  {
   "cell_type": "markdown",
   "metadata": {},
   "source": [
    "From 2D to 1D."
   ]
  },
  {
   "cell_type": "code",
   "execution_count": 137,
   "metadata": {
    "collapsed": false
   },
   "outputs": [
    {
     "data": {
      "text/plain": [
       "(36608,)"
      ]
     },
     "execution_count": 137,
     "metadata": {},
     "output_type": "execute_result"
    }
   ],
   "source": [
    "image.flatten().shape"
   ]
  },
  {
   "cell_type": "markdown",
   "metadata": {},
   "source": [
    "Or is it a 0D???\n",
    "\n",
    "One dimensional arrays are neither row nor column vectors."
   ]
  },
  {
   "cell_type": "code",
   "execution_count": 138,
   "metadata": {
    "collapsed": true
   },
   "outputs": [],
   "source": [
    "all_values = image.flatten()"
   ]
  },
  {
   "cell_type": "code",
   "execution_count": 139,
   "metadata": {
    "collapsed": true
   },
   "outputs": [],
   "source": [
    "imageSlice = image[180,:]"
   ]
  },
  {
   "cell_type": "code",
   "execution_count": 140,
   "metadata": {
    "collapsed": false
   },
   "outputs": [
    {
     "data": {
      "text/plain": [
       "<matplotlib.text.Text at 0x7faf09473ac8>"
      ]
     },
     "execution_count": 140,
     "metadata": {},
     "output_type": "execute_result"
    },
    {
     "data": {
      "image/png": "[encoded data removed]",
      "text/plain": [
       "<matplotlib.figure.Figure at 0x7faf0945ab70>"
      ]
     },
     "metadata": {},
     "output_type": "display_data"
    }
   ],
   "source": [
    "plt.plot(imageSlice)\n",
    "plt.title('Row 181 Profile')"
   ]
  },
  {
   "cell_type": "code",
   "execution_count": 141,
   "metadata": {
    "collapsed": false
   },
   "outputs": [
    {
     "data": {
      "text/plain": [
       "<matplotlib.text.Text at 0x7faf0944cd68>"
      ]
     },
     "execution_count": 141,
     "metadata": {},
     "output_type": "execute_result"
    },
    {
     "data": {
      "image/png": "[encoded data removed]",
      "text/plain": [
       "<matplotlib.figure.Figure at 0x7faf094300b8>"
      ]
     },
     "metadata": {},
     "output_type": "display_data"
    }
   ],
   "source": [
    "plt.plot(image.mean(axis = 0))\n",
    "plt.title('Mean Profile')"
   ]
  },
  {
   "cell_type": "code",
   "execution_count": 142,
   "metadata": {
    "collapsed": false
   },
   "outputs": [
    {
     "data": {
      "text/plain": [
       "<matplotlib.text.Text at 0x7faf093bd400>"
      ]
     },
     "execution_count": 142,
     "metadata": {},
     "output_type": "execute_result"
    },
    {
     "data": {
      "image/png": "[encoded data removed]",
      "text/plain": [
       "<matplotlib.figure.Figure at 0x7faf0947ea90>"
      ]
     },
     "metadata": {},
     "output_type": "display_data"
    }
   ],
   "source": [
    "plt.hist(all_values)\n",
    "plt.title('Histogram of Intensity Values')"
   ]
  },
  {
   "cell_type": "markdown",
   "metadata": {},
   "source": [
    "We observe 4 levels of values. Let's explore these individual levels."
   ]
  },
  {
   "cell_type": "code",
   "execution_count": 143,
   "metadata": {
    "collapsed": false
   },
   "outputs": [
    {
     "data": {
      "text/plain": [
       "array([  0,  63, 127, 191], dtype=uint8)"
      ]
     },
     "execution_count": 143,
     "metadata": {},
     "output_type": "execute_result"
    }
   ],
   "source": [
    "# let's look at the distinct intensity values\n",
    "np.unique(all_values)"
   ]
  },
  {
   "cell_type": "code",
   "execution_count": 144,
   "metadata": {
    "collapsed": false
   },
   "outputs": [
    {
     "data": {
      "text/plain": [
       "numpy.bool_"
      ]
     },
     "execution_count": 144,
     "metadata": {},
     "output_type": "execute_result"
    }
   ],
   "source": [
    "# checking conditions\n",
    "type((image == 0)[0,0])"
   ]
  },
  {
   "cell_type": "code",
   "execution_count": 145,
   "metadata": {
    "collapsed": false
   },
   "outputs": [
    {
     "data": {
      "text/plain": [
       "<matplotlib.text.Text at 0x7faf09339a90>"
      ]
     },
     "execution_count": 145,
     "metadata": {},
     "output_type": "execute_result"
    },
    {
     "data": {
      "image/png": "[encoded data removed]",
      "text/plain": [
       "<matplotlib.figure.Figure at 0x7faf093b0be0>"
      ]
     },
     "metadata": {},
     "output_type": "display_data"
    }
   ],
   "source": [
    "plt.imshow(image==63, cmap = 'gray')\n",
    "plt.title('CSF')"
   ]
  },
  {
   "cell_type": "code",
   "execution_count": 146,
   "metadata": {
    "collapsed": false
   },
   "outputs": [
    {
     "data": {
      "text/plain": [
       "<matplotlib.text.Text at 0x7faf0930fe10>"
      ]
     },
     "execution_count": 146,
     "metadata": {},
     "output_type": "execute_result"
    },
    {
     "data": {
      "image/png": "[encoded data removed]",
      "text/plain": [
       "<matplotlib.figure.Figure at 0x7faf0934dcc0>"
      ]
     },
     "metadata": {},
     "output_type": "display_data"
    }
   ],
   "source": [
    "plt.imshow(image==127, cmap = 'gray')\n",
    "plt.title('Grey Matter')"
   ]
  },
  {
   "cell_type": "code",
   "execution_count": 147,
   "metadata": {
    "collapsed": false
   },
   "outputs": [
    {
     "data": {
      "text/plain": [
       "<matplotlib.text.Text at 0x7faf0926aeb8>"
      ]
     },
     "execution_count": 147,
     "metadata": {},
     "output_type": "execute_result"
    },
    {
     "data": {
      "image/png": "[encoded data removed]",
      "text/plain": [
       "<matplotlib.figure.Figure at 0x7faf09260be0>"
      ]
     },
     "metadata": {},
     "output_type": "display_data"
    }
   ],
   "source": [
    "plt.imshow(image==191, cmap = 'gray')\n",
    "plt.title('White Matter')"
   ]
  },
  {
   "cell_type": "code",
   "execution_count": 148,
   "metadata": {
    "collapsed": true
   },
   "outputs": [],
   "source": [
    "volume = sum(image==191)"
   ]
  },
  {
   "cell_type": "code",
   "execution_count": 149,
   "metadata": {
    "collapsed": false
   },
   "outputs": [],
   "source": [
    "volume = np.sum(image==191)"
   ]
  },
  {
   "cell_type": "code",
   "execution_count": 150,
   "metadata": {
    "collapsed": false
   },
   "outputs": [
    {
     "data": {
      "text/plain": [
       "6011"
      ]
     },
     "execution_count": 150,
     "metadata": {},
     "output_type": "execute_result"
    }
   ],
   "source": [
    "volume"
   ]
  },
  {
   "cell_type": "markdown",
   "metadata": {},
   "source": [
    "TODO: Counting from the end, any numpy array as indeces."
   ]
  },
  {
   "cell_type": "markdown",
   "metadata": {},
   "source": [
    "TODO: = vs. copy"
   ]
  },
  {
   "cell_type": "markdown",
   "metadata": {
    "collapsed": true
   },
   "source": [
    "---\n",
    "### Creating Functions"
   ]
  },
  {
   "cell_type": "code",
   "execution_count": 151,
   "metadata": {
    "collapsed": true
   },
   "outputs": [],
   "source": [
    "def calculateRegionVolume(image,region):\n",
    "    volume = np.sum(image == region)\n",
    "    return(volume)"
   ]
  },
  {
   "cell_type": "code",
   "execution_count": 152,
   "metadata": {
    "collapsed": false
   },
   "outputs": [
    {
     "data": {
      "text/plain": [
       "18298"
      ]
     },
     "execution_count": 152,
     "metadata": {},
     "output_type": "execute_result"
    }
   ],
   "source": [
    "calculateRegionVolume(image,0)"
   ]
  },
  {
   "cell_type": "markdown",
   "metadata": {},
   "source": [
    "Exercise: make a function which calculates all 4 regions. Hint you can return more than one values. The function returns a tuple of values (more on this later)."
   ]
  },
  {
   "cell_type": "code",
   "execution_count": 153,
   "metadata": {
    "collapsed": true
   },
   "outputs": [],
   "source": [
    "def calculateVolumes(image):\n",
    "    volume1 = np.sum(image == 63)\n",
    "    volume2 = np.sum(image == 127)\n",
    "    volume3 = np.sum(image == 191)\n",
    "    return(volume1,volume2,volume3)"
   ]
  },
  {
   "cell_type": "code",
   "execution_count": 154,
   "metadata": {
    "collapsed": true
   },
   "outputs": [],
   "source": [
    "v1,v2,v3 = calculateVolumes(image)"
   ]
  },
  {
   "cell_type": "code",
   "execution_count": 155,
   "metadata": {
    "collapsed": false
   },
   "outputs": [
    {
     "name": "stdout",
     "output_type": "stream",
     "text": [
      "5766 6533 6533\n"
     ]
    }
   ],
   "source": [
    "print(v1,v2,v2)"
   ]
  },
  {
   "cell_type": "code",
   "execution_count": 156,
   "metadata": {
    "collapsed": false
   },
   "outputs": [
    {
     "data": {
      "text/plain": [
       "tuple"
      ]
     },
     "execution_count": 156,
     "metadata": {},
     "output_type": "execute_result"
    }
   ],
   "source": [
    "type(calculateVolumes(image))"
   ]
  },
  {
   "cell_type": "markdown",
   "metadata": {},
   "source": [
    "*Tuple* is a special data structure in Python which hoolds a sequence of elements `(v1,v2,v3)`. "
   ]
  },
  {
   "cell_type": "code",
   "execution_count": null,
   "metadata": {
    "collapsed": false
   },
   "outputs": [],
   "source": []
  },
  {
   "cell_type": "markdown",
   "metadata": {
    "collapsed": true
   },
   "source": [
    "TODO: change volume to percent (discuss division between python 2 and 3)"
   ]
  },
  {
   "cell_type": "markdown",
   "metadata": {},
   "source": [
    "TODO: Explain Scope by removing region."
   ]
  },
  {
   "cell_type": "markdown",
   "metadata": {},
   "source": [
    "TODO: Show we can have default parameters, play with order."
   ]
  },
  {
   "cell_type": "markdown",
   "metadata": {
    "collapsed": true
   },
   "source": [
    "TODO: help of functions, write help for my own functions"
   ]
  },
  {
   "cell_type": "markdown",
   "metadata": {
    "collapsed": true
   },
   "source": [
    "---\n",
    "### Iterations: Lists and For-loops"
   ]
  },
  {
   "cell_type": "markdown",
   "metadata": {},
   "source": [
    "We need something to iterate over: usually that is a Python's list."
   ]
  },
  {
   "cell_type": "code",
   "execution_count": 157,
   "metadata": {
    "collapsed": true
   },
   "outputs": [],
   "source": [
    "myList = [1,2,3,4,5]"
   ]
  },
  {
   "cell_type": "code",
   "execution_count": 158,
   "metadata": {
    "collapsed": false
   },
   "outputs": [
    {
     "data": {
      "text/plain": [
       "[1, 2, 3, 4, 5]"
      ]
     },
     "execution_count": 158,
     "metadata": {},
     "output_type": "execute_result"
    }
   ],
   "source": [
    "myList"
   ]
  },
  {
   "cell_type": "code",
   "execution_count": 159,
   "metadata": {
    "collapsed": false
   },
   "outputs": [
    {
     "data": {
      "text/plain": [
       "[1, 2, 3, 4, 5, 6]"
      ]
     },
     "execution_count": 159,
     "metadata": {},
     "output_type": "execute_result"
    }
   ],
   "source": [
    "## We can add more elements easily\n",
    "myList.append(6)\n",
    "myList"
   ]
  },
  {
   "cell_type": "code",
   "execution_count": null,
   "metadata": {
    "collapsed": false
   },
   "outputs": [],
   "source": []
  },
  {
   "cell_type": "markdown",
   "metadata": {},
   "source": [
    "What is the difference with numpy arrays?"
   ]
  },
  {
   "cell_type": "markdown",
   "metadata": {},
   "source": [
    "We can put anything in lists:"
   ]
  },
  {
   "cell_type": "code",
   "execution_count": 160,
   "metadata": {
    "collapsed": false
   },
   "outputs": [],
   "source": [
    "mixedList = [1,'a',3,'avs',True]"
   ]
  },
  {
   "cell_type": "code",
   "execution_count": 161,
   "metadata": {
    "collapsed": false
   },
   "outputs": [
    {
     "data": {
      "text/plain": [
       "bool"
      ]
     },
     "execution_count": 161,
     "metadata": {},
     "output_type": "execute_result"
    }
   ],
   "source": [
    "type(mixedList[4])"
   ]
  },
  {
   "cell_type": "code",
   "execution_count": 162,
   "metadata": {
    "collapsed": true
   },
   "outputs": [],
   "source": [
    "# we can even put another list\n",
    "mixedList.append([1,23])"
   ]
  },
  {
   "cell_type": "code",
   "execution_count": 163,
   "metadata": {
    "collapsed": false
   },
   "outputs": [
    {
     "data": {
      "text/plain": [
       "[1, 'a', 3, 'avs', True, [1, 23]]"
      ]
     },
     "execution_count": 163,
     "metadata": {},
     "output_type": "execute_result"
    }
   ],
   "source": [
    "mixedList"
   ]
  },
  {
   "cell_type": "markdown",
   "metadata": {},
   "source": [
    "What is the difference with tuples?"
   ]
  },
  {
   "cell_type": "code",
   "execution_count": 164,
   "metadata": {
    "collapsed": true
   },
   "outputs": [],
   "source": [
    "myTuple = (1,2,3,4,5,6)"
   ]
  },
  {
   "cell_type": "code",
   "execution_count": 165,
   "metadata": {
    "collapsed": true
   },
   "outputs": [],
   "source": [
    "myList[2] = 5"
   ]
  },
  {
   "cell_type": "code",
   "execution_count": 166,
   "metadata": {
    "collapsed": true
   },
   "outputs": [],
   "source": [
    "# myTuple[2] = 5"
   ]
  },
  {
   "cell_type": "markdown",
   "metadata": {},
   "source": [
    "In tuples you cannot change individual values!!! Tuples are called immutable, lists are mutable, numpy arrays are mutable."
   ]
  },
  {
   "cell_type": "markdown",
   "metadata": {},
   "source": [
    "Python For-loops = iterating over lists, or iterating over tuples, iterating over strings, or any other iterable object."
   ]
  },
  {
   "cell_type": "code",
   "execution_count": 167,
   "metadata": {
    "collapsed": false
   },
   "outputs": [
    {
     "name": "stdout",
     "output_type": "stream",
     "text": [
      "1\n",
      "a\n",
      "3\n",
      "avs\n",
      "True\n",
      "[1, 23]\n"
     ]
    }
   ],
   "source": [
    "for item in mixedList:\n",
    "    print(item)"
   ]
  },
  {
   "cell_type": "markdown",
   "metadata": {},
   "source": [
    "The `range` function is very useful when working with loops."
   ]
  },
  {
   "cell_type": "code",
   "execution_count": 168,
   "metadata": {
    "collapsed": false
   },
   "outputs": [
    {
     "name": "stdout",
     "output_type": "stream",
     "text": [
      "1\n",
      "a\n",
      "3\n",
      "avs\n",
      "True\n",
      "[1, 23]\n"
     ]
    }
   ],
   "source": [
    "for i in range(6):\n",
    "    print(mixedList[i])"
   ]
  },
  {
   "cell_type": "code",
   "execution_count": null,
   "metadata": {
    "collapsed": false
   },
   "outputs": [],
   "source": []
  },
  {
   "cell_type": "markdown",
   "metadata": {
    "collapsed": false
   },
   "source": [
    "We have 44 patients and we want to calculate the volumes for all of them. We want to iterate over all image files in the folder. To extract a list of names for files in a folder matching a certain pattern, we can use a Python library called `blob`."
   ]
  },
  {
   "cell_type": "code",
   "execution_count": 169,
   "metadata": {
    "collapsed": true
   },
   "outputs": [],
   "source": [
    "import glob"
   ]
  },
  {
   "cell_type": "code",
   "execution_count": 170,
   "metadata": {
    "collapsed": false
   },
   "outputs": [],
   "source": [
    "image_filenames = glob.glob('../data/*.gif')"
   ]
  },
  {
   "cell_type": "code",
   "execution_count": 171,
   "metadata": {
    "collapsed": false
   },
   "outputs": [
    {
     "data": {
      "text/plain": [
       "['../data/OAS1_0012_MR1_mpr_n4_anon_111_t88_masked_gfc_fseg_tra_90.gif',\n",
       " '../data/OAS1_0002_MR1_mpr_n4_anon_111_t88_masked_gfc_fseg_tra_90.gif',\n",
       " '../data/OAS1_0013_MR1_mpr_n4_anon_111_t88_masked_gfc_fseg_tra_90.gif',\n",
       " '../data/OAS1_0009_MR1_mpr_n4_anon_111_t88_masked_gfc_fseg_tra_90.gif',\n",
       " '../data/OAS1_0035_MR1_mpr_n4_anon_111_t88_masked_gfc_fseg_tra_90.gif',\n",
       " '../data/OAS1_0022_MR1_mpr_n4_anon_111_t88_masked_gfc_fseg_tra_90.gif',\n",
       " '../data/OAS1_0007_MR1_mpr_n3_anon_111_t88_masked_gfc_fseg_tra_90.gif',\n",
       " '../data/OAS1_0005_MR1_mpr_n4_anon_111_t88_masked_gfc_fseg_tra_90.gif',\n",
       " '../data/OAS1_0011_MR1_mpr_n4_anon_111_t88_masked_gfc_fseg_tra_90.gif',\n",
       " '../data/OAS1_0029_MR1_mpr_n4_anon_111_t88_masked_gfc_fseg_tra_90.gif',\n",
       " '../data/OAS1_0028_MR1_mpr_n4_anon_111_t88_masked_gfc_fseg_tra_90.gif',\n",
       " '../data/OAS1_0030_MR1_mpr_n4_anon_111_t88_masked_gfc_fseg_tra_90.gif',\n",
       " '../data/OAS1_0014_MR1_mpr_n4_anon_111_t88_masked_gfc_fseg_tra_90.gif',\n",
       " '../data/OAS1_0027_MR1_mpr_n4_anon_111_t88_masked_gfc_fseg_tra_90.gif',\n",
       " '../data/OAS1_0017_MR1_mpr_n4_anon_111_t88_masked_gfc_fseg_tra_90.gif',\n",
       " '../data/OAS1_0020_MR1_mpr_n3_anon_111_t88_masked_gfc_fseg_tra_90.gif',\n",
       " '../data/OAS1_0039_MR1_mpr_n3_anon_111_t88_masked_gfc_fseg_tra_90.gif',\n",
       " '../data/OAS1_0003_MR1_mpr_n4_anon_111_t88_masked_gfc_fseg_tra_90.gif',\n",
       " '../data/OAS1_0038_MR1_mpr_n3_anon_111_t88_masked_gfc_fseg_tra_90.gif',\n",
       " '../data/OAS1_0026_MR1_mpr_n3_anon_111_t88_masked_gfc_fseg_tra_90.gif',\n",
       " '../data/OAS1_0001_MR1_mpr_n4_anon_111_t88_masked_gfc_fseg_tra_90.gif',\n",
       " '../data/OAS1_0004_MR1_mpr_n4_anon_111_t88_masked_gfc_fseg_tra_90.gif',\n",
       " '../data/OAS1_0016_MR1_mpr_n3_anon_111_t88_masked_gfc_fseg_tra_90.gif',\n",
       " '../data/OAS1_0040_MR1_mpr_n4_anon_111_t88_masked_gfc_fseg_tra_90.gif',\n",
       " '../data/OAS1_0025_MR1_mpr_n4_anon_111_t88_masked_gfc_fseg_tra_90.gif',\n",
       " '../data/OAS1_0010_MR1_mpr_n4_anon_111_t88_masked_gfc_fseg_tra_90.gif',\n",
       " '../data/OAS1_0015_MR1_mpr_n3_anon_111_t88_masked_gfc_fseg_tra_90.gif',\n",
       " '../data/OAS1_0031_MR1_mpr_n4_anon_111_t88_masked_gfc_fseg_tra_90.gif',\n",
       " '../data/OAS1_0006_MR1_mpr_n4_anon_111_t88_masked_gfc_fseg_tra_90.gif',\n",
       " '../data/OAS1_0023_MR1_mpr_n4_anon_111_t88_masked_gfc_fseg_tra_90.gif',\n",
       " '../data/OAS1_0021_MR1_mpr_n4_anon_111_t88_masked_gfc_fseg_tra_90.gif',\n",
       " '../data/OAS1_0032_MR1_mpr_n4_anon_111_t88_masked_gfc_fseg_tra_90.gif',\n",
       " '../data/OAS1_0042_MR1_mpr_n4_anon_111_t88_masked_gfc_fseg_tra_90.gif',\n",
       " '../data/OAS1_0041_MR1_mpr_n4_anon_111_t88_masked_gfc_fseg_tra_90.gif',\n",
       " '../data/OAS1_0034_MR1_mpr_n3_anon_111_t88_masked_gfc_fseg_tra_90.gif',\n",
       " '../data/OAS1_0018_MR1_mpr_n4_anon_111_t88_masked_gfc_fseg_tra_90.gif',\n",
       " '../data/OAS1_0037_MR1_mpr_n4_anon_111_t88_masked_gfc_fseg_tra_90.gif',\n",
       " '../data/OAS1_0033_MR1_mpr_n4_anon_111_t88_masked_gfc_fseg_tra_90.gif',\n",
       " '../data/OAS1_0019_MR1_mpr_n4_anon_111_t88_masked_gfc_fseg_tra_90.gif']"
      ]
     },
     "execution_count": 171,
     "metadata": {},
     "output_type": "execute_result"
    }
   ],
   "source": [
    "image_filenames"
   ]
  },
  {
   "cell_type": "code",
   "execution_count": null,
   "metadata": {
    "collapsed": false
   },
   "outputs": [],
   "source": []
  },
  {
   "cell_type": "markdown",
   "metadata": {},
   "source": [
    "Exercise: calculate the volume for the region with intensity 191 for all images and store these volumes in a list. \n",
    "\n",
    "Hint: you can initialize an emplty list with \n",
    "\n",
    "`l = []`"
   ]
  },
  {
   "cell_type": "code",
   "execution_count": 172,
   "metadata": {
    "collapsed": false
   },
   "outputs": [],
   "source": [
    "listOfVolumes = []\n",
    "for filename in image_filenames:\n",
    "    image = ndimage.imread(filename)\n",
    "    listOfVolumes.append(calculateRegionVolume(image,191))"
   ]
  },
  {
   "cell_type": "code",
   "execution_count": 173,
   "metadata": {
    "collapsed": false
   },
   "outputs": [
    {
     "data": {
      "text/plain": [
       "[6662,\n",
       " 6464,\n",
       " 5334,\n",
       " 6838,\n",
       " 5866,\n",
       " 7331,\n",
       " 7313,\n",
       " 7088,\n",
       " 7517,\n",
       " 7064,\n",
       " 6753,\n",
       " 6364,\n",
       " 7232,\n",
       " 7926,\n",
       " 7243,\n",
       " 6874,\n",
       " 6228,\n",
       " 6320,\n",
       " 7572,\n",
       " 7318,\n",
       " 6011,\n",
       " 6815,\n",
       " 6568,\n",
       " 7023,\n",
       " 7499,\n",
       " 5977,\n",
       " 6941,\n",
       " 5005,\n",
       " 7354,\n",
       " 5811,\n",
       " 5728,\n",
       " 5213,\n",
       " 6250,\n",
       " 6869,\n",
       " 7611,\n",
       " 7492,\n",
       " 7644,\n",
       " 6898,\n",
       " 5794]"
      ]
     },
     "execution_count": 173,
     "metadata": {},
     "output_type": "execute_result"
    }
   ],
   "source": [
    "listOfVolumes"
   ]
  },
  {
   "cell_type": "markdown",
   "metadata": {},
   "source": [
    "Warning glob.glob may return results in different order!!!"
   ]
  },
  {
   "cell_type": "markdown",
   "metadata": {},
   "source": [
    "How can we make the results safer and more clear?"
   ]
  },
  {
   "cell_type": "markdown",
   "metadata": {},
   "source": [
    "We want to keep the name of the files: i.e. we need a mapping from the filename to the volume. We can use a dictionary data structure for that."
   ]
  },
  {
   "cell_type": "markdown",
   "metadata": {},
   "source": [
    "---\n",
    "### Dictionaries"
   ]
  },
  {
   "cell_type": "code",
   "execution_count": 174,
   "metadata": {
    "collapsed": true
   },
   "outputs": [],
   "source": [
    "myDict = {'John':21,'Pamela': 32,'Eli':20}"
   ]
  },
  {
   "cell_type": "code",
   "execution_count": 175,
   "metadata": {
    "collapsed": false
   },
   "outputs": [
    {
     "data": {
      "text/plain": [
       "32"
      ]
     },
     "execution_count": 175,
     "metadata": {},
     "output_type": "execute_result"
    }
   ],
   "source": [
    "# Accessing values\n",
    "myDict['Pamela']"
   ]
  },
  {
   "cell_type": "code",
   "execution_count": 176,
   "metadata": {
    "collapsed": false
   },
   "outputs": [
    {
     "data": {
      "text/plain": [
       "dict_keys(['Pamela', 'Eli', 'John'])"
      ]
     },
     "execution_count": 176,
     "metadata": {},
     "output_type": "execute_result"
    }
   ],
   "source": [
    "# the keys\n",
    "myDict.keys()"
   ]
  },
  {
   "cell_type": "code",
   "execution_count": 177,
   "metadata": {
    "collapsed": false
   },
   "outputs": [
    {
     "data": {
      "text/plain": [
       "dict_values([32, 20, 21])"
      ]
     },
     "execution_count": 177,
     "metadata": {},
     "output_type": "execute_result"
    }
   ],
   "source": [
    "# the values\n",
    "myDict.values()"
   ]
  },
  {
   "cell_type": "code",
   "execution_count": 178,
   "metadata": {
    "collapsed": false
   },
   "outputs": [
    {
     "data": {
      "text/plain": [
       "dict_items([('Pamela', 32), ('Eli', 20), ('John', 21)])"
      ]
     },
     "execution_count": 178,
     "metadata": {},
     "output_type": "execute_result"
    }
   ],
   "source": [
    "# keys and values\n",
    "myDict.items()"
   ]
  },
  {
   "cell_type": "code",
   "execution_count": null,
   "metadata": {
    "collapsed": true
   },
   "outputs": [],
   "source": []
  },
  {
   "cell_type": "code",
   "execution_count": null,
   "metadata": {
    "collapsed": true
   },
   "outputs": [],
   "source": []
  },
  {
   "cell_type": "code",
   "execution_count": 179,
   "metadata": {
    "collapsed": true
   },
   "outputs": [],
   "source": [
    "# Create new elements:\n",
    "myDict['Jim'] = 20"
   ]
  },
  {
   "cell_type": "code",
   "execution_count": 180,
   "metadata": {
    "collapsed": false
   },
   "outputs": [
    {
     "data": {
      "text/plain": [
       "{'Eli': 20, 'Jim': 20, 'John': 21, 'Pamela': 32}"
      ]
     },
     "execution_count": 180,
     "metadata": {},
     "output_type": "execute_result"
    }
   ],
   "source": [
    "myDict"
   ]
  },
  {
   "cell_type": "markdown",
   "metadata": {},
   "source": [
    "We see that the 'Jim' entry did not get attached in the end. Actually the elements are arranged in an alphabetical order of the keys.\n",
    "\n",
    "Dictionary entries are not ordered!!!"
   ]
  },
  {
   "cell_type": "code",
   "execution_count": 181,
   "metadata": {
    "collapsed": true
   },
   "outputs": [],
   "source": [
    "# Empty Dictionary:\n",
    "dictOfVolumes = {}"
   ]
  },
  {
   "cell_type": "code",
   "execution_count": 182,
   "metadata": {
    "collapsed": false
   },
   "outputs": [],
   "source": [
    "for filename in image_filenames:\n",
    "    image = ndimage.imread(filename)\n",
    "    dictOfVolumes[filename] = calculateRegionVolume(image,191)"
   ]
  },
  {
   "cell_type": "code",
   "execution_count": 183,
   "metadata": {
    "collapsed": false
   },
   "outputs": [
    {
     "data": {
      "text/plain": [
       "{'../data/OAS1_0001_MR1_mpr_n4_anon_111_t88_masked_gfc_fseg_tra_90.gif': 6011,\n",
       " '../data/OAS1_0002_MR1_mpr_n4_anon_111_t88_masked_gfc_fseg_tra_90.gif': 6464,\n",
       " '../data/OAS1_0003_MR1_mpr_n4_anon_111_t88_masked_gfc_fseg_tra_90.gif': 6320,\n",
       " '../data/OAS1_0004_MR1_mpr_n4_anon_111_t88_masked_gfc_fseg_tra_90.gif': 6815,\n",
       " '../data/OAS1_0005_MR1_mpr_n4_anon_111_t88_masked_gfc_fseg_tra_90.gif': 7088,\n",
       " '../data/OAS1_0006_MR1_mpr_n4_anon_111_t88_masked_gfc_fseg_tra_90.gif': 7354,\n",
       " '../data/OAS1_0007_MR1_mpr_n3_anon_111_t88_masked_gfc_fseg_tra_90.gif': 7313,\n",
       " '../data/OAS1_0009_MR1_mpr_n4_anon_111_t88_masked_gfc_fseg_tra_90.gif': 6838,\n",
       " '../data/OAS1_0010_MR1_mpr_n4_anon_111_t88_masked_gfc_fseg_tra_90.gif': 5977,\n",
       " '../data/OAS1_0011_MR1_mpr_n4_anon_111_t88_masked_gfc_fseg_tra_90.gif': 7517,\n",
       " '../data/OAS1_0012_MR1_mpr_n4_anon_111_t88_masked_gfc_fseg_tra_90.gif': 6662,\n",
       " '../data/OAS1_0013_MR1_mpr_n4_anon_111_t88_masked_gfc_fseg_tra_90.gif': 5334,\n",
       " '../data/OAS1_0014_MR1_mpr_n4_anon_111_t88_masked_gfc_fseg_tra_90.gif': 7232,\n",
       " '../data/OAS1_0015_MR1_mpr_n3_anon_111_t88_masked_gfc_fseg_tra_90.gif': 6941,\n",
       " '../data/OAS1_0016_MR1_mpr_n3_anon_111_t88_masked_gfc_fseg_tra_90.gif': 6568,\n",
       " '../data/OAS1_0017_MR1_mpr_n4_anon_111_t88_masked_gfc_fseg_tra_90.gif': 7243,\n",
       " '../data/OAS1_0018_MR1_mpr_n4_anon_111_t88_masked_gfc_fseg_tra_90.gif': 7492,\n",
       " '../data/OAS1_0019_MR1_mpr_n4_anon_111_t88_masked_gfc_fseg_tra_90.gif': 5794,\n",
       " '../data/OAS1_0020_MR1_mpr_n3_anon_111_t88_masked_gfc_fseg_tra_90.gif': 6874,\n",
       " '../data/OAS1_0021_MR1_mpr_n4_anon_111_t88_masked_gfc_fseg_tra_90.gif': 5728,\n",
       " '../data/OAS1_0022_MR1_mpr_n4_anon_111_t88_masked_gfc_fseg_tra_90.gif': 7331,\n",
       " '../data/OAS1_0023_MR1_mpr_n4_anon_111_t88_masked_gfc_fseg_tra_90.gif': 5811,\n",
       " '../data/OAS1_0025_MR1_mpr_n4_anon_111_t88_masked_gfc_fseg_tra_90.gif': 7499,\n",
       " '../data/OAS1_0026_MR1_mpr_n3_anon_111_t88_masked_gfc_fseg_tra_90.gif': 7318,\n",
       " '../data/OAS1_0027_MR1_mpr_n4_anon_111_t88_masked_gfc_fseg_tra_90.gif': 7926,\n",
       " '../data/OAS1_0028_MR1_mpr_n4_anon_111_t88_masked_gfc_fseg_tra_90.gif': 6753,\n",
       " '../data/OAS1_0029_MR1_mpr_n4_anon_111_t88_masked_gfc_fseg_tra_90.gif': 7064,\n",
       " '../data/OAS1_0030_MR1_mpr_n4_anon_111_t88_masked_gfc_fseg_tra_90.gif': 6364,\n",
       " '../data/OAS1_0031_MR1_mpr_n4_anon_111_t88_masked_gfc_fseg_tra_90.gif': 5005,\n",
       " '../data/OAS1_0032_MR1_mpr_n4_anon_111_t88_masked_gfc_fseg_tra_90.gif': 5213,\n",
       " '../data/OAS1_0033_MR1_mpr_n4_anon_111_t88_masked_gfc_fseg_tra_90.gif': 6898,\n",
       " '../data/OAS1_0034_MR1_mpr_n3_anon_111_t88_masked_gfc_fseg_tra_90.gif': 7611,\n",
       " '../data/OAS1_0035_MR1_mpr_n4_anon_111_t88_masked_gfc_fseg_tra_90.gif': 5866,\n",
       " '../data/OAS1_0037_MR1_mpr_n4_anon_111_t88_masked_gfc_fseg_tra_90.gif': 7644,\n",
       " '../data/OAS1_0038_MR1_mpr_n3_anon_111_t88_masked_gfc_fseg_tra_90.gif': 7572,\n",
       " '../data/OAS1_0039_MR1_mpr_n3_anon_111_t88_masked_gfc_fseg_tra_90.gif': 6228,\n",
       " '../data/OAS1_0040_MR1_mpr_n4_anon_111_t88_masked_gfc_fseg_tra_90.gif': 7023,\n",
       " '../data/OAS1_0041_MR1_mpr_n4_anon_111_t88_masked_gfc_fseg_tra_90.gif': 6869,\n",
       " '../data/OAS1_0042_MR1_mpr_n4_anon_111_t88_masked_gfc_fseg_tra_90.gif': 6250}"
      ]
     },
     "execution_count": 183,
     "metadata": {},
     "output_type": "execute_result"
    }
   ],
   "source": [
    "dictOfVolumes"
   ]
  },
  {
   "cell_type": "code",
   "execution_count": 184,
   "metadata": {
    "collapsed": false
   },
   "outputs": [
    {
     "name": "stdout",
     "output_type": "stream",
     "text": [
      "../data/OAS1_0027_MR1_mpr_n4_anon_111_t88_masked_gfc_fseg_tra_90.gif 7926\n",
      "../data/OAS1_0007_MR1_mpr_n3_anon_111_t88_masked_gfc_fseg_tra_90.gif 7313\n",
      "../data/OAS1_0039_MR1_mpr_n3_anon_111_t88_masked_gfc_fseg_tra_90.gif 6228\n",
      "../data/OAS1_0015_MR1_mpr_n3_anon_111_t88_masked_gfc_fseg_tra_90.gif 6941\n",
      "../data/OAS1_0013_MR1_mpr_n4_anon_111_t88_masked_gfc_fseg_tra_90.gif 5334\n",
      "../data/OAS1_0038_MR1_mpr_n3_anon_111_t88_masked_gfc_fseg_tra_90.gif 7572\n",
      "../data/OAS1_0009_MR1_mpr_n4_anon_111_t88_masked_gfc_fseg_tra_90.gif 6838\n",
      "../data/OAS1_0003_MR1_mpr_n4_anon_111_t88_masked_gfc_fseg_tra_90.gif 6320\n",
      "../data/OAS1_0021_MR1_mpr_n4_anon_111_t88_masked_gfc_fseg_tra_90.gif 5728\n",
      "../data/OAS1_0006_MR1_mpr_n4_anon_111_t88_masked_gfc_fseg_tra_90.gif 7354\n",
      "../data/OAS1_0018_MR1_mpr_n4_anon_111_t88_masked_gfc_fseg_tra_90.gif 7492\n",
      "../data/OAS1_0011_MR1_mpr_n4_anon_111_t88_masked_gfc_fseg_tra_90.gif 7517\n",
      "../data/OAS1_0026_MR1_mpr_n3_anon_111_t88_masked_gfc_fseg_tra_90.gif 7318\n",
      "../data/OAS1_0028_MR1_mpr_n4_anon_111_t88_masked_gfc_fseg_tra_90.gif 6753\n",
      "../data/OAS1_0034_MR1_mpr_n3_anon_111_t88_masked_gfc_fseg_tra_90.gif 7611\n",
      "../data/OAS1_0019_MR1_mpr_n4_anon_111_t88_masked_gfc_fseg_tra_90.gif 5794\n",
      "../data/OAS1_0029_MR1_mpr_n4_anon_111_t88_masked_gfc_fseg_tra_90.gif 7064\n",
      "../data/OAS1_0017_MR1_mpr_n4_anon_111_t88_masked_gfc_fseg_tra_90.gif 7243\n",
      "../data/OAS1_0022_MR1_mpr_n4_anon_111_t88_masked_gfc_fseg_tra_90.gif 7331\n",
      "../data/OAS1_0033_MR1_mpr_n4_anon_111_t88_masked_gfc_fseg_tra_90.gif 6898\n",
      "../data/OAS1_0014_MR1_mpr_n4_anon_111_t88_masked_gfc_fseg_tra_90.gif 7232\n",
      "../data/OAS1_0040_MR1_mpr_n4_anon_111_t88_masked_gfc_fseg_tra_90.gif 7023\n",
      "../data/OAS1_0035_MR1_mpr_n4_anon_111_t88_masked_gfc_fseg_tra_90.gif 5866\n",
      "../data/OAS1_0042_MR1_mpr_n4_anon_111_t88_masked_gfc_fseg_tra_90.gif 6250\n",
      "../data/OAS1_0037_MR1_mpr_n4_anon_111_t88_masked_gfc_fseg_tra_90.gif 7644\n",
      "../data/OAS1_0020_MR1_mpr_n3_anon_111_t88_masked_gfc_fseg_tra_90.gif 6874\n",
      "../data/OAS1_0005_MR1_mpr_n4_anon_111_t88_masked_gfc_fseg_tra_90.gif 7088\n",
      "../data/OAS1_0025_MR1_mpr_n4_anon_111_t88_masked_gfc_fseg_tra_90.gif 7499\n",
      "../data/OAS1_0004_MR1_mpr_n4_anon_111_t88_masked_gfc_fseg_tra_90.gif 6815\n",
      "../data/OAS1_0030_MR1_mpr_n4_anon_111_t88_masked_gfc_fseg_tra_90.gif 6364\n",
      "../data/OAS1_0041_MR1_mpr_n4_anon_111_t88_masked_gfc_fseg_tra_90.gif 6869\n",
      "../data/OAS1_0002_MR1_mpr_n4_anon_111_t88_masked_gfc_fseg_tra_90.gif 6464\n",
      "../data/OAS1_0031_MR1_mpr_n4_anon_111_t88_masked_gfc_fseg_tra_90.gif 5005\n",
      "../data/OAS1_0032_MR1_mpr_n4_anon_111_t88_masked_gfc_fseg_tra_90.gif 5213\n",
      "../data/OAS1_0010_MR1_mpr_n4_anon_111_t88_masked_gfc_fseg_tra_90.gif 5977\n",
      "../data/OAS1_0016_MR1_mpr_n3_anon_111_t88_masked_gfc_fseg_tra_90.gif 6568\n",
      "../data/OAS1_0012_MR1_mpr_n4_anon_111_t88_masked_gfc_fseg_tra_90.gif 6662\n",
      "../data/OAS1_0023_MR1_mpr_n4_anon_111_t88_masked_gfc_fseg_tra_90.gif 5811\n",
      "../data/OAS1_0001_MR1_mpr_n4_anon_111_t88_masked_gfc_fseg_tra_90.gif 6011\n"
     ]
    }
   ],
   "source": [
    "# let's show the elements\n",
    "for key,value in dictOfVolumes.items():\n",
    "    print(key,value)"
   ]
  },
  {
   "cell_type": "code",
   "execution_count": 185,
   "metadata": {
    "collapsed": false
   },
   "outputs": [
    {
     "name": "stdout",
     "output_type": "stream",
     "text": [
      "OAS1_0027_MR1 7926\n",
      "OAS1_0007_MR1 7313\n",
      "OAS1_0039_MR1 6228\n",
      "OAS1_0015_MR1 6941\n",
      "OAS1_0013_MR1 5334\n",
      "OAS1_0038_MR1 7572\n",
      "OAS1_0009_MR1 6838\n",
      "OAS1_0003_MR1 6320\n",
      "OAS1_0021_MR1 5728\n",
      "OAS1_0006_MR1 7354\n",
      "OAS1_0018_MR1 7492\n",
      "OAS1_0011_MR1 7517\n",
      "OAS1_0026_MR1 7318\n",
      "OAS1_0028_MR1 6753\n",
      "OAS1_0034_MR1 7611\n",
      "OAS1_0019_MR1 5794\n",
      "OAS1_0029_MR1 7064\n",
      "OAS1_0017_MR1 7243\n",
      "OAS1_0022_MR1 7331\n",
      "OAS1_0033_MR1 6898\n",
      "OAS1_0014_MR1 7232\n",
      "OAS1_0040_MR1 7023\n",
      "OAS1_0035_MR1 5866\n",
      "OAS1_0042_MR1 6250\n",
      "OAS1_0037_MR1 7644\n",
      "OAS1_0020_MR1 6874\n",
      "OAS1_0005_MR1 7088\n",
      "OAS1_0025_MR1 7499\n",
      "OAS1_0004_MR1 6815\n",
      "OAS1_0030_MR1 6364\n",
      "OAS1_0041_MR1 6869\n",
      "OAS1_0002_MR1 6464\n",
      "OAS1_0031_MR1 5005\n",
      "OAS1_0032_MR1 5213\n",
      "OAS1_0010_MR1 5977\n",
      "OAS1_0016_MR1 6568\n",
      "OAS1_0012_MR1 6662\n",
      "OAS1_0023_MR1 5811\n",
      "OAS1_0001_MR1 6011\n"
     ]
    }
   ],
   "source": [
    "# we can format the output a bit: string.find() function returns the index where the substring is found\n",
    "for key,value in dictOfVolumes.items():\n",
    "    print(key[key.find('OAS'):key.find('_mpr')],value)"
   ]
  },
  {
   "cell_type": "code",
   "execution_count": 186,
   "metadata": {
    "collapsed": false
   },
   "outputs": [],
   "source": [
    "for filename in image_filenames:\n",
    "    image = ndimage.imread(filename)\n",
    "    dictOfVolumes[filename] = calculateVolumes(image)"
   ]
  },
  {
   "cell_type": "code",
   "execution_count": 187,
   "metadata": {
    "collapsed": false
   },
   "outputs": [
    {
     "data": {
      "text/plain": [
       "{'../data/OAS1_0001_MR1_mpr_n4_anon_111_t88_masked_gfc_fseg_tra_90.gif': (5766,\n",
       "  6533,\n",
       "  6011),\n",
       " '../data/OAS1_0002_MR1_mpr_n4_anon_111_t88_masked_gfc_fseg_tra_90.gif': (3282,\n",
       "  8564,\n",
       "  6464),\n",
       " '../data/OAS1_0003_MR1_mpr_n4_anon_111_t88_masked_gfc_fseg_tra_90.gif': (5369,\n",
       "  6621,\n",
       "  6320),\n",
       " '../data/OAS1_0004_MR1_mpr_n4_anon_111_t88_masked_gfc_fseg_tra_90.gif': (3646,\n",
       "  7849,\n",
       "  6815),\n",
       " '../data/OAS1_0005_MR1_mpr_n4_anon_111_t88_masked_gfc_fseg_tra_90.gif': (2537,\n",
       "  8685,\n",
       "  7088),\n",
       " '../data/OAS1_0006_MR1_mpr_n4_anon_111_t88_masked_gfc_fseg_tra_90.gif': (2004,\n",
       "  8952,\n",
       "  7354),\n",
       " '../data/OAS1_0007_MR1_mpr_n3_anon_111_t88_masked_gfc_fseg_tra_90.gif': (2829,\n",
       "  8168,\n",
       "  7313),\n",
       " '../data/OAS1_0009_MR1_mpr_n4_anon_111_t88_masked_gfc_fseg_tra_90.gif': (2727,\n",
       "  8745,\n",
       "  6838),\n",
       " '../data/OAS1_0010_MR1_mpr_n4_anon_111_t88_masked_gfc_fseg_tra_90.gif': (6071,\n",
       "  6262,\n",
       "  5977),\n",
       " '../data/OAS1_0011_MR1_mpr_n4_anon_111_t88_masked_gfc_fseg_tra_90.gif': (2924,\n",
       "  7869,\n",
       "  7517),\n",
       " '../data/OAS1_0012_MR1_mpr_n4_anon_111_t88_masked_gfc_fseg_tra_90.gif': (3038,\n",
       "  8610,\n",
       "  6662),\n",
       " '../data/OAS1_0013_MR1_mpr_n4_anon_111_t88_masked_gfc_fseg_tra_90.gif': (7067,\n",
       "  5909,\n",
       "  5334),\n",
       " '../data/OAS1_0014_MR1_mpr_n4_anon_111_t88_masked_gfc_fseg_tra_90.gif': (2144,\n",
       "  8934,\n",
       "  7232),\n",
       " '../data/OAS1_0015_MR1_mpr_n3_anon_111_t88_masked_gfc_fseg_tra_90.gif': (5181,\n",
       "  6188,\n",
       "  6941),\n",
       " '../data/OAS1_0016_MR1_mpr_n3_anon_111_t88_masked_gfc_fseg_tra_90.gif': (6063,\n",
       "  5679,\n",
       "  6568),\n",
       " '../data/OAS1_0017_MR1_mpr_n4_anon_111_t88_masked_gfc_fseg_tra_90.gif': (2599,\n",
       "  8468,\n",
       "  7243),\n",
       " '../data/OAS1_0018_MR1_mpr_n4_anon_111_t88_masked_gfc_fseg_tra_90.gif': (3220,\n",
       "  7598,\n",
       "  7492),\n",
       " '../data/OAS1_0019_MR1_mpr_n4_anon_111_t88_masked_gfc_fseg_tra_90.gif': (6103,\n",
       "  6413,\n",
       "  5794),\n",
       " '../data/OAS1_0020_MR1_mpr_n3_anon_111_t88_masked_gfc_fseg_tra_90.gif': (3921,\n",
       "  7515,\n",
       "  6874),\n",
       " '../data/OAS1_0021_MR1_mpr_n4_anon_111_t88_masked_gfc_fseg_tra_90.gif': (6121,\n",
       "  6461,\n",
       "  5728),\n",
       " '../data/OAS1_0022_MR1_mpr_n4_anon_111_t88_masked_gfc_fseg_tra_90.gif': (4163,\n",
       "  6816,\n",
       "  7331),\n",
       " '../data/OAS1_0023_MR1_mpr_n4_anon_111_t88_masked_gfc_fseg_tra_90.gif': (5786,\n",
       "  6713,\n",
       "  5811),\n",
       " '../data/OAS1_0025_MR1_mpr_n4_anon_111_t88_masked_gfc_fseg_tra_90.gif': (1597,\n",
       "  9214,\n",
       "  7499),\n",
       " '../data/OAS1_0026_MR1_mpr_n3_anon_111_t88_masked_gfc_fseg_tra_90.gif': (3300,\n",
       "  7692,\n",
       "  7318),\n",
       " '../data/OAS1_0027_MR1_mpr_n4_anon_111_t88_masked_gfc_fseg_tra_90.gif': (2655,\n",
       "  7729,\n",
       "  7926),\n",
       " '../data/OAS1_0028_MR1_mpr_n4_anon_111_t88_masked_gfc_fseg_tra_90.gif': (4806,\n",
       "  6751,\n",
       "  6753),\n",
       " '../data/OAS1_0029_MR1_mpr_n4_anon_111_t88_masked_gfc_fseg_tra_90.gif': (2416,\n",
       "  8830,\n",
       "  7064),\n",
       " '../data/OAS1_0030_MR1_mpr_n4_anon_111_t88_masked_gfc_fseg_tra_90.gif': (4453,\n",
       "  7493,\n",
       "  6364),\n",
       " '../data/OAS1_0031_MR1_mpr_n4_anon_111_t88_masked_gfc_fseg_tra_90.gif': (8137,\n",
       "  5168,\n",
       "  5005),\n",
       " '../data/OAS1_0032_MR1_mpr_n4_anon_111_t88_masked_gfc_fseg_tra_90.gif': (6984,\n",
       "  6113,\n",
       "  5213),\n",
       " '../data/OAS1_0033_MR1_mpr_n4_anon_111_t88_masked_gfc_fseg_tra_90.gif': (4926,\n",
       "  6486,\n",
       "  6898),\n",
       " '../data/OAS1_0034_MR1_mpr_n3_anon_111_t88_masked_gfc_fseg_tra_90.gif': (1988,\n",
       "  8711,\n",
       "  7611),\n",
       " '../data/OAS1_0035_MR1_mpr_n4_anon_111_t88_masked_gfc_fseg_tra_90.gif': (5910,\n",
       "  6534,\n",
       "  5866),\n",
       " '../data/OAS1_0037_MR1_mpr_n4_anon_111_t88_masked_gfc_fseg_tra_90.gif': (3073,\n",
       "  7593,\n",
       "  7644),\n",
       " '../data/OAS1_0038_MR1_mpr_n3_anon_111_t88_masked_gfc_fseg_tra_90.gif': (2313,\n",
       "  8425,\n",
       "  7572),\n",
       " '../data/OAS1_0039_MR1_mpr_n3_anon_111_t88_masked_gfc_fseg_tra_90.gif': (5585,\n",
       "  6497,\n",
       "  6228),\n",
       " '../data/OAS1_0040_MR1_mpr_n4_anon_111_t88_masked_gfc_fseg_tra_90.gif': (3093,\n",
       "  8194,\n",
       "  7023),\n",
       " '../data/OAS1_0041_MR1_mpr_n4_anon_111_t88_masked_gfc_fseg_tra_90.gif': (4592,\n",
       "  6849,\n",
       "  6869),\n",
       " '../data/OAS1_0042_MR1_mpr_n4_anon_111_t88_masked_gfc_fseg_tra_90.gif': (5819,\n",
       "  6241,\n",
       "  6250)}"
      ]
     },
     "execution_count": 187,
     "metadata": {},
     "output_type": "execute_result"
    }
   ],
   "source": [
    "dictOfVolumes"
   ]
  },
  {
   "cell_type": "markdown",
   "metadata": {},
   "source": [
    "We want to plot the volumes for all subjects. The `plt.plot` function expects a list of x-coordinates and a list of y-coordinates."
   ]
  },
  {
   "cell_type": "code",
   "execution_count": 188,
   "metadata": {
    "collapsed": false
   },
   "outputs": [
    {
     "data": {
      "text/plain": [
       "[<matplotlib.lines.Line2D at 0x7faf09207e80>]"
      ]
     },
     "execution_count": 188,
     "metadata": {},
     "output_type": "execute_result"
    },
    {
     "data": {
      "image/png": "[encoded data removed]",
      "text/plain": [
       "<matplotlib.figure.Figure at 0x7faf096c26d8>"
      ]
     },
     "metadata": {},
     "output_type": "display_data"
    }
   ],
   "source": [
    "plt.plot([1,2,3,4,5],[1,2,3,4,5])"
   ]
  },
  {
   "cell_type": "markdown",
   "metadata": {},
   "source": [
    "From list of volumes for each subject to list of volumes for each region: the `zip` function can help us."
   ]
  },
  {
   "cell_type": "code",
   "execution_count": 189,
   "metadata": {
    "collapsed": false
   },
   "outputs": [
    {
     "name": "stdout",
     "output_type": "stream",
     "text": [
      "[(2655, 2829, 5585, 5181, 7067, 2313, 2727, 5369, 6121, 2004, 3220, 2924, 3300, 4806, 1988, 6103, 2416, 2599, 4163, 4926, 2144, 3093, 5910, 5819, 3073, 3921, 2537, 1597, 3646, 4453, 4592, 3282, 8137, 6984, 6071, 6063, 3038, 5786, 5766), (7729, 8168, 6497, 6188, 5909, 8425, 8745, 6621, 6461, 8952, 7598, 7869, 7692, 6751, 8711, 6413, 8830, 8468, 6816, 6486, 8934, 8194, 6534, 6241, 7593, 7515, 8685, 9214, 7849, 7493, 6849, 8564, 5168, 6113, 6262, 5679, 8610, 6713, 6533), (7926, 7313, 6228, 6941, 5334, 7572, 6838, 6320, 5728, 7354, 7492, 7517, 7318, 6753, 7611, 5794, 7064, 7243, 7331, 6898, 7232, 7023, 5866, 6250, 7644, 6874, 7088, 7499, 6815, 6364, 6869, 6464, 5005, 5213, 5977, 6568, 6662, 5811, 6011)]\n"
     ]
    }
   ],
   "source": [
    "v = list(zip(*list(dictOfVolumes.values())))\n",
    "print(v)"
   ]
  },
  {
   "cell_type": "code",
   "execution_count": 190,
   "metadata": {
    "collapsed": false
   },
   "outputs": [
    {
     "data": {
      "text/plain": [
       "<matplotlib.text.Text at 0x7faf091c00f0>"
      ]
     },
     "execution_count": 190,
     "metadata": {},
     "output_type": "execute_result"
    },
    {
     "data": {
      "image/png": "[encoded data removed]",
      "text/plain": [
       "<matplotlib.figure.Figure at 0x7faf091b56a0>"
      ]
     },
     "metadata": {},
     "output_type": "display_data"
    }
   ],
   "source": [
    "plt.scatter(v[1],v[2])\n",
    "plt.xlabel('Gray Matter Volume')\n",
    "plt.ylabel('White Matter Volume')"
   ]
  },
  {
   "cell_type": "code",
   "execution_count": null,
   "metadata": {
    "collapsed": false
   },
   "outputs": [],
   "source": []
  },
  {
   "cell_type": "code",
   "execution_count": null,
   "metadata": {
    "collapsed": true
   },
   "outputs": [],
   "source": []
  },
  {
   "cell_type": "code",
   "execution_count": null,
   "metadata": {
    "collapsed": false
   },
   "outputs": [],
   "source": []
  },
  {
   "cell_type": "markdown",
   "metadata": {},
   "source": [
    "---\n",
    "### Working with Text"
   ]
  },
  {
   "cell_type": "markdown",
   "metadata": {},
   "source": [
    "Reading a text file:"
   ]
  },
  {
   "cell_type": "code",
   "execution_count": 191,
   "metadata": {
    "collapsed": false
   },
   "outputs": [],
   "source": [
    "f = open('../data/OAS1_0002_MR1.txt', 'r')"
   ]
  },
  {
   "cell_type": "code",
   "execution_count": 192,
   "metadata": {
    "collapsed": false
   },
   "outputs": [],
   "source": [
    "first_line = f.readline()\n",
    "second_line = f.readline()"
   ]
  },
  {
   "cell_type": "code",
   "execution_count": 193,
   "metadata": {
    "collapsed": false
   },
   "outputs": [],
   "source": [
    "f.close()"
   ]
  },
  {
   "cell_type": "code",
   "execution_count": 194,
   "metadata": {
    "collapsed": false
   },
   "outputs": [
    {
     "data": {
      "text/plain": [
       "17"
      ]
     },
     "execution_count": 194,
     "metadata": {},
     "output_type": "execute_result"
    }
   ],
   "source": [
    "len(second_line)"
   ]
  },
  {
   "cell_type": "markdown",
   "metadata": {},
   "source": [
    "We can extract subsequences from strings as we extracted as we can subset numpy arrays and lists."
   ]
  },
  {
   "cell_type": "code",
   "execution_count": 195,
   "metadata": {
    "collapsed": false
   },
   "outputs": [
    {
     "data": {
      "text/plain": [
       "'55'"
      ]
     },
     "execution_count": 195,
     "metadata": {},
     "output_type": "execute_result"
    }
   ],
   "source": [
    "second_line[14:16]"
   ]
  },
  {
   "cell_type": "markdown",
   "metadata": {},
   "source": [
    "Or we can count backwords:"
   ]
  },
  {
   "cell_type": "code",
   "execution_count": 196,
   "metadata": {
    "collapsed": false
   },
   "outputs": [
    {
     "data": {
      "text/plain": [
       "'55'"
      ]
     },
     "execution_count": 196,
     "metadata": {},
     "output_type": "execute_result"
    }
   ],
   "source": [
    "second_line[-3:-1]"
   ]
  },
  {
   "cell_type": "markdown",
   "metadata": {},
   "source": [
    "Exercise: create a function which extracts the age."
   ]
  },
  {
   "cell_type": "code",
   "execution_count": 197,
   "metadata": {
    "collapsed": false
   },
   "outputs": [],
   "source": [
    "def extractAge(filename):\n",
    "    f = open(filename, 'r')\n",
    "    first_line = f.readline()\n",
    "    second_line = f.readline()\n",
    "    f.close()\n",
    "    age = second_line[-3:-1]\n",
    "    return(int(age))\n",
    "   "
   ]
  },
  {
   "cell_type": "code",
   "execution_count": 198,
   "metadata": {
    "collapsed": false
   },
   "outputs": [
    {
     "data": {
      "text/plain": [
       "55"
      ]
     },
     "execution_count": 198,
     "metadata": {},
     "output_type": "execute_result"
    }
   ],
   "source": [
    "extractAge('../data/OAS1_0002_MR1.txt')"
   ]
  },
  {
   "cell_type": "markdown",
   "metadata": {},
   "source": [
    "---\n",
    "### Classes"
   ]
  },
  {
   "cell_type": "code",
   "execution_count": 199,
   "metadata": {
    "collapsed": true
   },
   "outputs": [],
   "source": [
    "class neuroImage:\n",
    "    image = image\n",
    "    subjectID = 'OAS1_0002_MR1'\n",
    "    def calculateVolumes(self):\n",
    "        return(calculateVolumes(image))"
   ]
  },
  {
   "cell_type": "code",
   "execution_count": 200,
   "metadata": {
    "collapsed": true
   },
   "outputs": [],
   "source": [
    "nim = neuroImage()"
   ]
  },
  {
   "cell_type": "code",
   "execution_count": 201,
   "metadata": {
    "collapsed": false
   },
   "outputs": [
    {
     "data": {
      "text/plain": [
       "'OAS1_0002_MR1'"
      ]
     },
     "execution_count": 201,
     "metadata": {},
     "output_type": "execute_result"
    }
   ],
   "source": [
    "nim.subjectID"
   ]
  },
  {
   "cell_type": "code",
   "execution_count": 202,
   "metadata": {
    "collapsed": false
   },
   "outputs": [
    {
     "data": {
      "text/plain": [
       "(6103, 6413, 5794)"
      ]
     },
     "execution_count": 202,
     "metadata": {},
     "output_type": "execute_result"
    }
   ],
   "source": [
    "nim.calculateVolumes()"
   ]
  },
  {
   "cell_type": "markdown",
   "metadata": {},
   "source": [
    "Initializing values of an object: adding a constructor."
   ]
  },
  {
   "cell_type": "code",
   "execution_count": 203,
   "metadata": {
    "collapsed": true
   },
   "outputs": [],
   "source": [
    "class neuroImage:\n",
    "    \n",
    "    def __init__(self,subjectID):\n",
    "        self.image = ndimage.imread('../data/'+subjectID+'_mpr_n4_anon_111_t88_masked_gfc_fseg_tra_90.gif')\n",
    "        self.subjectID = subjectID\n",
    "        \n",
    "    def calculateVolumes(self):\n",
    "        return(calculateVolumes(image))"
   ]
  },
  {
   "cell_type": "code",
   "execution_count": 204,
   "metadata": {
    "collapsed": false
   },
   "outputs": [],
   "source": [
    "nim = neuroImage('OAS1_0002_MR1')"
   ]
  },
  {
   "cell_type": "code",
   "execution_count": 205,
   "metadata": {
    "collapsed": false
   },
   "outputs": [
    {
     "data": {
      "text/plain": [
       "'OAS1_0002_MR1'"
      ]
     },
     "execution_count": 205,
     "metadata": {},
     "output_type": "execute_result"
    }
   ],
   "source": [
    "nim.subjectID"
   ]
  },
  {
   "cell_type": "markdown",
   "metadata": {},
   "source": [
    "Exercise: create a list of objects of class neuroImage for each subject using the corresponding image file and metadata file with fields: image, subjectID, age."
   ]
  },
  {
   "cell_type": "code",
   "execution_count": 206,
   "metadata": {
    "collapsed": false
   },
   "outputs": [
    {
     "name": "stdout",
     "output_type": "stream",
     "text": [
      "['../data/OAS1_0023_MR1.txt', '../data/OAS1_0002_MR1.txt', '../data/OAS1_0030_MR1.txt', '../data/OAS1_0013_MR1.txt', '../data/OAS1_0011_MR1.txt', '../data/OAS1_0003_MR1.txt', '../data/OAS1_0027_MR1.txt', '../data/OAS1_0014_MR1.txt', '../data/OAS1_0019_MR1.txt', '../data/OAS1_0025_MR1.txt', '../data/OAS1_0026_MR1.txt', '../data/OAS1_0038_MR1.txt', '../data/OAS1_0009_MR1.txt', '../data/OAS1_0017_MR1.txt', '../data/OAS1_0016_MR1.txt', '../data/OAS1_0015_MR1.txt', '../data/OAS1_0040_MR1.txt', '../data/OAS1_0033_MR1.txt', '../data/OAS1_0020_MR1.txt', '../data/OAS1_0018_MR1.txt', '../data/OAS1_0010_MR1.txt', '../data/OAS1_0035_MR1.txt', '../data/OAS1_0004_MR1.txt', '../data/OAS1_0022_MR1.txt', '../data/OAS1_0041_MR1.txt', '../data/OAS1_0029_MR1.txt', '../data/OAS1_0028_MR1.txt', '../data/OAS1_0034_MR1.txt', '../data/OAS1_0006_MR1.txt', '../data/OAS1_0005_MR1.txt', '../data/OAS1_0042_MR1.txt', '../data/OAS1_0037_MR1.txt', '../data/OAS1_0039_MR1.txt', '../data/OAS1_0032_MR1.txt', '../data/OAS1_0012_MR1.txt', '../data/OAS1_0021_MR1.txt', '../data/OAS1_0007_MR1.txt', '../data/OAS1_0031_MR1.txt', '../data/OAS1_0001_MR1.txt']\n"
     ]
    }
   ],
   "source": [
    "metadata_filenames = glob.glob('../data/*.txt')\n",
    "print(metadata_filenames)"
   ]
  },
  {
   "cell_type": "code",
   "execution_count": null,
   "metadata": {
    "collapsed": true
   },
   "outputs": [],
   "source": []
  },
  {
   "cell_type": "markdown",
   "metadata": {
    "collapsed": true
   },
   "source": [
    "---\n",
    "### Resources\n",
    "[Python for MATLAB Users](https://docs.scipy.org/doc/numpy-dev/user/numpy-for-matlab-users.html)"
   ]
  },
  {
   "cell_type": "markdown",
   "metadata": {},
   "source": [
    "[Python for R Users](https://www.amazon.com/Python-R-Users-Ajay-Ohri/dp/1119126762)"
   ]
  },
  {
   "cell_type": "markdown",
   "metadata": {},
   "source": [
    "[Tips on Code Style](http://docs.python-guide.org/en/latest/writing/style/)"
   ]
  },
  {
   "cell_type": "markdown",
   "metadata": {},
   "source": [
    "[Software Carpentry Python Lesson](http://swcarpentry.github.io/python-novice-inflammation/)"
   ]
  },
  {
   "cell_type": "markdown",
   "metadata": {},
   "source": []
  }
 ],
 "metadata": {
  "kernelspec": {
   "display_name": "Python 3",
   "language": "python",
   "name": "python3"
  },
  "language_info": {
   "codemirror_mode": {
    "name": "ipython",
    "version": 3
   },
   "file_extension": ".py",
   "mimetype": "text/x-python",
   "name": "python",
   "nbconvert_exporter": "python",
   "pygments_lexer": "ipython3",
   "version": "3.5.2"
  }
 },
 "nbformat": 4,
 "nbformat_minor": 0
}
